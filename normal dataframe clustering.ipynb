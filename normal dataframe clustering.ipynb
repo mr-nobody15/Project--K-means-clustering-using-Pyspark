{
  "nbformat": 4,
  "nbformat_minor": 0,
  "metadata": {
    "colab": {
      "provenance": []
    },
    "kernelspec": {
      "name": "python3",
      "display_name": "Python 3"
    },
    "language_info": {
      "name": "python"
    }
  },
  "cells": [
    {
      "cell_type": "code",
      "execution_count": null,
      "metadata": {
        "colab": {
          "base_uri": "https://localhost:8080/"
        },
        "id": "MdVoPPI6mi4X",
        "outputId": "04d54874-f5cf-4308-d23c-349866fabb40"
      },
      "outputs": [
        {
          "output_type": "stream",
          "name": "stdout",
          "text": [
            "Looking in indexes: https://pypi.org/simple, https://us-python.pkg.dev/colab-wheels/public/simple/\n",
            "Collecting pyspark\n",
            "  Downloading pyspark-3.3.1.tar.gz (281.4 MB)\n",
            "\u001b[K     |████████████████████████████████| 281.4 MB 59 kB/s \n",
            "\u001b[?25hCollecting py4j==0.10.9.5\n",
            "  Downloading py4j-0.10.9.5-py2.py3-none-any.whl (199 kB)\n",
            "\u001b[K     |████████████████████████████████| 199 kB 70.6 MB/s \n",
            "\u001b[?25hBuilding wheels for collected packages: pyspark\n",
            "  Building wheel for pyspark (setup.py) ... \u001b[?25l\u001b[?25hdone\n",
            "  Created wheel for pyspark: filename=pyspark-3.3.1-py2.py3-none-any.whl size=281845512 sha256=189bd685c9d1c9b0cb6241eefe8ef73f7f8e60cf68f2bc55e1a99e44913d9797\n",
            "  Stored in directory: /root/.cache/pip/wheels/43/dc/11/ec201cd671da62fa9c5cc77078235e40722170ceba231d7598\n",
            "Successfully built pyspark\n",
            "Installing collected packages: py4j, pyspark\n",
            "Successfully installed py4j-0.10.9.5 pyspark-3.3.1\n"
          ]
        }
      ],
      "source": [
        "!pip install pyspark"
      ]
    },
    {
      "cell_type": "code",
      "source": [
        "from pyspark.sql import SparkSession"
      ],
      "metadata": {
        "id": "GxgUJ4hSnFCZ"
      },
      "execution_count": null,
      "outputs": []
    },
    {
      "cell_type": "code",
      "source": [
        "spark = SparkSession.builder.appName(\"test\").getOrCreate()"
      ],
      "metadata": {
        "id": "at8AgjoDnI8B"
      },
      "execution_count": null,
      "outputs": []
    },
    {
      "cell_type": "code",
      "source": [
        "spark"
      ],
      "metadata": {
        "colab": {
          "base_uri": "https://localhost:8080/",
          "height": 219
        },
        "id": "T4zmY3F5pkSa",
        "outputId": "c24dc742-ec88-4c8c-e544-b975e665ea45"
      },
      "execution_count": null,
      "outputs": [
        {
          "output_type": "execute_result",
          "data": {
            "text/plain": [
              "<pyspark.sql.session.SparkSession at 0x7f92c95c45b0>"
            ],
            "text/html": [
              "\n",
              "            <div>\n",
              "                <p><b>SparkSession - in-memory</b></p>\n",
              "                \n",
              "        <div>\n",
              "            <p><b>SparkContext</b></p>\n",
              "\n",
              "            <p><a href=\"http://56c74d9d3465:4040\">Spark UI</a></p>\n",
              "\n",
              "            <dl>\n",
              "              <dt>Version</dt>\n",
              "                <dd><code>v3.3.1</code></dd>\n",
              "              <dt>Master</dt>\n",
              "                <dd><code>local[*]</code></dd>\n",
              "              <dt>AppName</dt>\n",
              "                <dd><code>test</code></dd>\n",
              "            </dl>\n",
              "        </div>\n",
              "        \n",
              "            </div>\n",
              "        "
            ]
          },
          "metadata": {},
          "execution_count": 4
        }
      ]
    },
    {
      "cell_type": "code",
      "source": [
        "df = spark.createDataFrame([\n",
        "\t\t\t\t\t\t\t\t\t\t\t\t\t\t\t\t[0, 35.3, 37.5,32.9],\n",
        "                               [1, 41.4, -23.5,-15.4],\n",
        "                               [2, 28.3, -13.3,10.2],\n",
        "                               [3, 09.5, -9.0,1.0],\n",
        "                               [4, 62.8, -18.23,17.66],\n",
        " \t  [5, 63.8, -18.33,10.7],\n",
        "   \t[6, 82.8, -17.23,3.33],\n",
        "   \t[7, 52.8, -13.43,9.976],\n",
        "   \t[8, 72.8, 48.23,11.13],\n",
        "   \t[9, 65.8, 15.43,14.144],\n",
        "   \t[10, 42.8, -13.23,-10.15],\n",
        "\t\t[11,11.65,23.14,39.25], \n",
        "[12,32.34,56.23,10.23],\n",
        "[13,23.56,-76.21,-23.93],\n",
        "[14,45.78,-33.33,-9.27],\n",
        "[15,59.89,-28.47,94.23],\n",
        "[16,-46.83,29.04,48.23],\n",
        "[17,45.36,72.83,-92.21],\n",
        "[18,-26.37,49.28,40.73],\n",
        "[19,29.49,-39.20,56.93],\n",
        "[20,85.28,39.20,-49.21],\n",
        "[21,42.45,-29.47,19.38],\n",
        "[22,-22.16,40.72,91.30],\n",
        "[23,20.39,40.17,20.30],\n",
        "[24,-10.45,-36.59,-12.84],\n",
        "[25,76.39,15.25,-29.12],\n",
        "[26,5.60,20.45,29.14],\n",
        "[27,39.19,-19.49,20.16],\n",
        "[28,-14.27,38.47,-17.35],\n",
        "[29,16.19,-38.15,32.43],\n",
        "[30,56.26,-16.37,13.23],\n",
        "[31,-94.38,16.19,34.13],\n",
        "[32,52.14,36.17,-78.35],\n",
        "[33,-41.25,98.23,75.26],\n",
        "[34,-87.96,21.58,-47.69],\n",
        "[35,21.75,63.48,56.42],\n",
        "[36,43.21,36.14,-74.12],\n",
        "[37,22.12,-47.26,31.45],\n",
        "[38,-87.69,12.43,74.63],\n",
        "[39,21.74,25.33,24.85],\n",
        "[40,45.63,-75.96,12.27],\n",
        "[41,22.74,56.34,94.25],\n",
        "[42,10.25,-3.46,14.16],\n",
        "[43,-42.12,84.23,12.17],\n",
        "[44,45.65,-75.23,-36.12],\n",
        "[45,23.62,-47.36,11.85],\n",
        "[46,-77.25,74.66,-41.85],\n",
        "[47,64.26,-33.78,-24.46],\n",
        "[48,54.72,-21.42,45.78],\n",
        "[49,24.48,-45.13,24.12],\n",
        "[50,45.21,-42.12,-31.98],\n",
        "[51,52.41,34.16,-45.74],\n",
        "[52,-13.12,45.16,82.56],\n",
        "[53,84.67,16.73,81.42],\n",
        "[54,42.19,-47.84,12.35],\n",
        "[55,-89.52,-86.44,-46.13],\n",
        "[56,75.96,25.66,41.26],\n",
        "[57,54.62,46.13,87.34],\n",
        "[58,-46.42,-28.32,52.70],\n",
        "[59,65.47,31.24,-66.41],\n",
        "[60,96.58,-24.30,-50.21]\n",
        "\t\t \n",
        "\t\t ],[\"ID\",\"Att_1\", \"Att_2\",\"Att_3\"])\n",
        "\n",
        "\n",
        "df.show()"
      ],
      "metadata": {
        "colab": {
          "base_uri": "https://localhost:8080/"
        },
        "id": "TgNgizy0xwxI",
        "outputId": "2a08baf6-bd35-4ce6-a5a5-bb8a9845fdf2"
      },
      "execution_count": null,
      "outputs": [
        {
          "output_type": "stream",
          "name": "stdout",
          "text": [
            "+---+------+------+------+\n",
            "| ID| Att_1| Att_2| Att_3|\n",
            "+---+------+------+------+\n",
            "|  0|  35.3|  37.5|  32.9|\n",
            "|  1|  41.4| -23.5| -15.4|\n",
            "|  2|  28.3| -13.3|  10.2|\n",
            "|  3|   9.5|  -9.0|   1.0|\n",
            "|  4|  62.8|-18.23| 17.66|\n",
            "|  5|  63.8|-18.33|  10.7|\n",
            "|  6|  82.8|-17.23|  3.33|\n",
            "|  7|  52.8|-13.43| 9.976|\n",
            "|  8|  72.8| 48.23| 11.13|\n",
            "|  9|  65.8| 15.43|14.144|\n",
            "| 10|  42.8|-13.23|-10.15|\n",
            "| 11| 11.65| 23.14| 39.25|\n",
            "| 12| 32.34| 56.23| 10.23|\n",
            "| 13| 23.56|-76.21|-23.93|\n",
            "| 14| 45.78|-33.33| -9.27|\n",
            "| 15| 59.89|-28.47| 94.23|\n",
            "| 16|-46.83| 29.04| 48.23|\n",
            "| 17| 45.36| 72.83|-92.21|\n",
            "| 18|-26.37| 49.28| 40.73|\n",
            "| 19| 29.49| -39.2| 56.93|\n",
            "+---+------+------+------+\n",
            "only showing top 20 rows\n",
            "\n"
          ]
        }
      ]
    },
    {
      "cell_type": "code",
      "source": [
        "from pyspark.ml.linalg import Vector\n",
        "from pyspark.ml.feature import VectorAssembler\n",
        "vecAssembler = VectorAssembler(inputCols=[\"Att_1\", \"Att_2\",\"Att_3\"], outputCol=\"features\")"
      ],
      "metadata": {
        "id": "V1MEuwDrxw5V"
      },
      "execution_count": null,
      "outputs": []
    },
    {
      "cell_type": "code",
      "source": [
        "new_df = vecAssembler.transform(df)\n",
        "new_df.show()"
      ],
      "metadata": {
        "colab": {
          "base_uri": "https://localhost:8080/"
        },
        "id": "MilTgxBexxDu",
        "outputId": "c118ea28-de63-4777-939f-137aaff7fe57"
      },
      "execution_count": null,
      "outputs": [
        {
          "output_type": "stream",
          "name": "stdout",
          "text": [
            "+---+------+------+------+--------------------+\n",
            "| ID| Att_1| Att_2| Att_3|            features|\n",
            "+---+------+------+------+--------------------+\n",
            "|  0|  35.3|  37.5|  32.9|    [35.3,37.5,32.9]|\n",
            "|  1|  41.4| -23.5| -15.4|  [41.4,-23.5,-15.4]|\n",
            "|  2|  28.3| -13.3|  10.2|   [28.3,-13.3,10.2]|\n",
            "|  3|   9.5|  -9.0|   1.0|      [9.5,-9.0,1.0]|\n",
            "|  4|  62.8|-18.23| 17.66| [62.8,-18.23,17.66]|\n",
            "|  5|  63.8|-18.33|  10.7|  [63.8,-18.33,10.7]|\n",
            "|  6|  82.8|-17.23|  3.33|  [82.8,-17.23,3.33]|\n",
            "|  7|  52.8|-13.43| 9.976| [52.8,-13.43,9.976]|\n",
            "|  8|  72.8| 48.23| 11.13|  [72.8,48.23,11.13]|\n",
            "|  9|  65.8| 15.43|14.144| [65.8,15.43,14.144]|\n",
            "| 10|  42.8|-13.23|-10.15|[42.8,-13.23,-10.15]|\n",
            "| 11| 11.65| 23.14| 39.25| [11.65,23.14,39.25]|\n",
            "| 12| 32.34| 56.23| 10.23| [32.34,56.23,10.23]|\n",
            "| 13| 23.56|-76.21|-23.93|[23.56,-76.21,-23...|\n",
            "| 14| 45.78|-33.33| -9.27|[45.78,-33.33,-9.27]|\n",
            "| 15| 59.89|-28.47| 94.23|[59.89,-28.47,94.23]|\n",
            "| 16|-46.83| 29.04| 48.23|[-46.83,29.04,48.23]|\n",
            "| 17| 45.36| 72.83|-92.21|[45.36,72.83,-92.21]|\n",
            "| 18|-26.37| 49.28| 40.73|[-26.37,49.28,40.73]|\n",
            "| 19| 29.49| -39.2| 56.93| [29.49,-39.2,56.93]|\n",
            "+---+------+------+------+--------------------+\n",
            "only showing top 20 rows\n",
            "\n"
          ]
        }
      ]
    },
    {
      "cell_type": "code",
      "source": [
        "\n",
        "\n",
        "from pyspark.ml.clustering import KMeans\n",
        "kmeans = KMeans(k=2, seed=1)\n",
        "model = kmeans.fit(new_df.select('features'))\n",
        "\n",
        "transformed = model.transform(new_df)\n",
        "transformed.show()\n",
        "\n"
      ],
      "metadata": {
        "colab": {
          "base_uri": "https://localhost:8080/"
        },
        "id": "jef_9FVcyWDH",
        "outputId": "e735e134-b493-4967-8412-9145816fe637"
      },
      "execution_count": null,
      "outputs": [
        {
          "output_type": "stream",
          "name": "stdout",
          "text": [
            "+---+------+------+------+--------------------+----------+\n",
            "| ID| Att_1| Att_2| Att_3|            features|prediction|\n",
            "+---+------+------+------+--------------------+----------+\n",
            "|  0|  35.3|  37.5|  32.9|    [35.3,37.5,32.9]|         0|\n",
            "|  1|  41.4| -23.5| -15.4|  [41.4,-23.5,-15.4]|         0|\n",
            "|  2|  28.3| -13.3|  10.2|   [28.3,-13.3,10.2]|         0|\n",
            "|  3|   9.5|  -9.0|   1.0|      [9.5,-9.0,1.0]|         0|\n",
            "|  4|  62.8|-18.23| 17.66| [62.8,-18.23,17.66]|         0|\n",
            "|  5|  63.8|-18.33|  10.7|  [63.8,-18.33,10.7]|         0|\n",
            "|  6|  82.8|-17.23|  3.33|  [82.8,-17.23,3.33]|         0|\n",
            "|  7|  52.8|-13.43| 9.976| [52.8,-13.43,9.976]|         0|\n",
            "|  8|  72.8| 48.23| 11.13|  [72.8,48.23,11.13]|         0|\n",
            "|  9|  65.8| 15.43|14.144| [65.8,15.43,14.144]|         0|\n",
            "| 10|  42.8|-13.23|-10.15|[42.8,-13.23,-10.15]|         0|\n",
            "| 11| 11.65| 23.14| 39.25| [11.65,23.14,39.25]|         1|\n",
            "| 12| 32.34| 56.23| 10.23| [32.34,56.23,10.23]|         0|\n",
            "| 13| 23.56|-76.21|-23.93|[23.56,-76.21,-23...|         0|\n",
            "| 14| 45.78|-33.33| -9.27|[45.78,-33.33,-9.27]|         0|\n",
            "| 15| 59.89|-28.47| 94.23|[59.89,-28.47,94.23]|         0|\n",
            "| 16|-46.83| 29.04| 48.23|[-46.83,29.04,48.23]|         1|\n",
            "| 17| 45.36| 72.83|-92.21|[45.36,72.83,-92.21]|         0|\n",
            "| 18|-26.37| 49.28| 40.73|[-26.37,49.28,40.73]|         1|\n",
            "| 19| 29.49| -39.2| 56.93| [29.49,-39.2,56.93]|         0|\n",
            "+---+------+------+------+--------------------+----------+\n",
            "only showing top 20 rows\n",
            "\n"
          ]
        }
      ]
    },
    {
      "cell_type": "code",
      "source": [
        "\n",
        "model.transform(new_df).groupBy(\"prediction\").count().show()\n"
      ],
      "metadata": {
        "colab": {
          "base_uri": "https://localhost:8080/"
        },
        "id": "jOlTsyqSy3RA",
        "outputId": "8cb7a8b6-8692-4136-8e76-5c6541ef259e"
      },
      "execution_count": null,
      "outputs": [
        {
          "output_type": "stream",
          "name": "stdout",
          "text": [
            "+----------+-----+\n",
            "|prediction|count|\n",
            "+----------+-----+\n",
            "|         1|   17|\n",
            "|         0|   44|\n",
            "+----------+-----+\n",
            "\n"
          ]
        }
      ]
    },
    {
      "cell_type": "code",
      "source": [
        "df1= df.toPandas()\n",
        "df1"
      ],
      "metadata": {
        "colab": {
          "base_uri": "https://localhost:8080/",
          "height": 424
        },
        "id": "qGWj8BiuPcr3",
        "outputId": "27ec3a97-162c-4aef-967b-4186cd21daa9"
      },
      "execution_count": null,
      "outputs": [
        {
          "output_type": "execute_result",
          "data": {
            "text/plain": [
              "    ID  Att_1  Att_2  Att_3\n",
              "0    0  35.30  37.50  32.90\n",
              "1    1  41.40 -23.50 -15.40\n",
              "2    2  28.30 -13.30  10.20\n",
              "3    3   9.50  -9.00   1.00\n",
              "4    4  62.80 -18.23  17.66\n",
              "..  ..    ...    ...    ...\n",
              "56  56  75.96  25.66  41.26\n",
              "57  57  54.62  46.13  87.34\n",
              "58  58 -46.42 -28.32  52.70\n",
              "59  59  65.47  31.24 -66.41\n",
              "60  60  96.58 -24.30 -50.21\n",
              "\n",
              "[61 rows x 4 columns]"
            ],
            "text/html": [
              "\n",
              "  <div id=\"df-75b54dfb-e50f-4999-8678-34e01fa8aa06\">\n",
              "    <div class=\"colab-df-container\">\n",
              "      <div>\n",
              "<style scoped>\n",
              "    .dataframe tbody tr th:only-of-type {\n",
              "        vertical-align: middle;\n",
              "    }\n",
              "\n",
              "    .dataframe tbody tr th {\n",
              "        vertical-align: top;\n",
              "    }\n",
              "\n",
              "    .dataframe thead th {\n",
              "        text-align: right;\n",
              "    }\n",
              "</style>\n",
              "<table border=\"1\" class=\"dataframe\">\n",
              "  <thead>\n",
              "    <tr style=\"text-align: right;\">\n",
              "      <th></th>\n",
              "      <th>ID</th>\n",
              "      <th>Att_1</th>\n",
              "      <th>Att_2</th>\n",
              "      <th>Att_3</th>\n",
              "    </tr>\n",
              "  </thead>\n",
              "  <tbody>\n",
              "    <tr>\n",
              "      <th>0</th>\n",
              "      <td>0</td>\n",
              "      <td>35.30</td>\n",
              "      <td>37.50</td>\n",
              "      <td>32.90</td>\n",
              "    </tr>\n",
              "    <tr>\n",
              "      <th>1</th>\n",
              "      <td>1</td>\n",
              "      <td>41.40</td>\n",
              "      <td>-23.50</td>\n",
              "      <td>-15.40</td>\n",
              "    </tr>\n",
              "    <tr>\n",
              "      <th>2</th>\n",
              "      <td>2</td>\n",
              "      <td>28.30</td>\n",
              "      <td>-13.30</td>\n",
              "      <td>10.20</td>\n",
              "    </tr>\n",
              "    <tr>\n",
              "      <th>3</th>\n",
              "      <td>3</td>\n",
              "      <td>9.50</td>\n",
              "      <td>-9.00</td>\n",
              "      <td>1.00</td>\n",
              "    </tr>\n",
              "    <tr>\n",
              "      <th>4</th>\n",
              "      <td>4</td>\n",
              "      <td>62.80</td>\n",
              "      <td>-18.23</td>\n",
              "      <td>17.66</td>\n",
              "    </tr>\n",
              "    <tr>\n",
              "      <th>...</th>\n",
              "      <td>...</td>\n",
              "      <td>...</td>\n",
              "      <td>...</td>\n",
              "      <td>...</td>\n",
              "    </tr>\n",
              "    <tr>\n",
              "      <th>56</th>\n",
              "      <td>56</td>\n",
              "      <td>75.96</td>\n",
              "      <td>25.66</td>\n",
              "      <td>41.26</td>\n",
              "    </tr>\n",
              "    <tr>\n",
              "      <th>57</th>\n",
              "      <td>57</td>\n",
              "      <td>54.62</td>\n",
              "      <td>46.13</td>\n",
              "      <td>87.34</td>\n",
              "    </tr>\n",
              "    <tr>\n",
              "      <th>58</th>\n",
              "      <td>58</td>\n",
              "      <td>-46.42</td>\n",
              "      <td>-28.32</td>\n",
              "      <td>52.70</td>\n",
              "    </tr>\n",
              "    <tr>\n",
              "      <th>59</th>\n",
              "      <td>59</td>\n",
              "      <td>65.47</td>\n",
              "      <td>31.24</td>\n",
              "      <td>-66.41</td>\n",
              "    </tr>\n",
              "    <tr>\n",
              "      <th>60</th>\n",
              "      <td>60</td>\n",
              "      <td>96.58</td>\n",
              "      <td>-24.30</td>\n",
              "      <td>-50.21</td>\n",
              "    </tr>\n",
              "  </tbody>\n",
              "</table>\n",
              "<p>61 rows × 4 columns</p>\n",
              "</div>\n",
              "      <button class=\"colab-df-convert\" onclick=\"convertToInteractive('df-75b54dfb-e50f-4999-8678-34e01fa8aa06')\"\n",
              "              title=\"Convert this dataframe to an interactive table.\"\n",
              "              style=\"display:none;\">\n",
              "        \n",
              "  <svg xmlns=\"http://www.w3.org/2000/svg\" height=\"24px\"viewBox=\"0 0 24 24\"\n",
              "       width=\"24px\">\n",
              "    <path d=\"M0 0h24v24H0V0z\" fill=\"none\"/>\n",
              "    <path d=\"M18.56 5.44l.94 2.06.94-2.06 2.06-.94-2.06-.94-.94-2.06-.94 2.06-2.06.94zm-11 1L8.5 8.5l.94-2.06 2.06-.94-2.06-.94L8.5 2.5l-.94 2.06-2.06.94zm10 10l.94 2.06.94-2.06 2.06-.94-2.06-.94-.94-2.06-.94 2.06-2.06.94z\"/><path d=\"M17.41 7.96l-1.37-1.37c-.4-.4-.92-.59-1.43-.59-.52 0-1.04.2-1.43.59L10.3 9.45l-7.72 7.72c-.78.78-.78 2.05 0 2.83L4 21.41c.39.39.9.59 1.41.59.51 0 1.02-.2 1.41-.59l7.78-7.78 2.81-2.81c.8-.78.8-2.07 0-2.86zM5.41 20L4 18.59l7.72-7.72 1.47 1.35L5.41 20z\"/>\n",
              "  </svg>\n",
              "      </button>\n",
              "      \n",
              "  <style>\n",
              "    .colab-df-container {\n",
              "      display:flex;\n",
              "      flex-wrap:wrap;\n",
              "      gap: 12px;\n",
              "    }\n",
              "\n",
              "    .colab-df-convert {\n",
              "      background-color: #E8F0FE;\n",
              "      border: none;\n",
              "      border-radius: 50%;\n",
              "      cursor: pointer;\n",
              "      display: none;\n",
              "      fill: #1967D2;\n",
              "      height: 32px;\n",
              "      padding: 0 0 0 0;\n",
              "      width: 32px;\n",
              "    }\n",
              "\n",
              "    .colab-df-convert:hover {\n",
              "      background-color: #E2EBFA;\n",
              "      box-shadow: 0px 1px 2px rgba(60, 64, 67, 0.3), 0px 1px 3px 1px rgba(60, 64, 67, 0.15);\n",
              "      fill: #174EA6;\n",
              "    }\n",
              "\n",
              "    [theme=dark] .colab-df-convert {\n",
              "      background-color: #3B4455;\n",
              "      fill: #D2E3FC;\n",
              "    }\n",
              "\n",
              "    [theme=dark] .colab-df-convert:hover {\n",
              "      background-color: #434B5C;\n",
              "      box-shadow: 0px 1px 3px 1px rgba(0, 0, 0, 0.15);\n",
              "      filter: drop-shadow(0px 1px 2px rgba(0, 0, 0, 0.3));\n",
              "      fill: #FFFFFF;\n",
              "    }\n",
              "  </style>\n",
              "\n",
              "      <script>\n",
              "        const buttonEl =\n",
              "          document.querySelector('#df-75b54dfb-e50f-4999-8678-34e01fa8aa06 button.colab-df-convert');\n",
              "        buttonEl.style.display =\n",
              "          google.colab.kernel.accessAllowed ? 'block' : 'none';\n",
              "\n",
              "        async function convertToInteractive(key) {\n",
              "          const element = document.querySelector('#df-75b54dfb-e50f-4999-8678-34e01fa8aa06');\n",
              "          const dataTable =\n",
              "            await google.colab.kernel.invokeFunction('convertToInteractive',\n",
              "                                                     [key], {});\n",
              "          if (!dataTable) return;\n",
              "\n",
              "          const docLinkHtml = 'Like what you see? Visit the ' +\n",
              "            '<a target=\"_blank\" href=https://colab.research.google.com/notebooks/data_table.ipynb>data table notebook</a>'\n",
              "            + ' to learn more about interactive tables.';\n",
              "          element.innerHTML = '';\n",
              "          dataTable['output_type'] = 'display_data';\n",
              "          await google.colab.output.renderOutput(dataTable, element);\n",
              "          const docLink = document.createElement('div');\n",
              "          docLink.innerHTML = docLinkHtml;\n",
              "          element.appendChild(docLink);\n",
              "        }\n",
              "      </script>\n",
              "    </div>\n",
              "  </div>\n",
              "  "
            ]
          },
          "metadata": {},
          "execution_count": 10
        }
      ]
    },
    {
      "cell_type": "code",
      "source": [
        "#find the optimal number of clusters using elbow method\n",
        "from sklearn.cluster import KMeans\n",
        "import matplotlib.pyplot as plt\n",
        "import numpy as np\n",
        "\n",
        "WCSS = []\n",
        "for i in range(1,11):\n",
        "    model = KMeans(n_clusters = i,init = 'k-means++')\n",
        "    model.fit(df1)\n",
        "    WCSS.append(model.inertia_)\n",
        "\n",
        "    \n",
        "fig = plt.figure(figsize = (7,7))\n",
        "plt.plot(range(1,11),WCSS, linewidth=4, markersize=12,marker='o',color = 'green')\n",
        "plt.xticks(np.arange(11))\n",
        "plt.xlabel(\"Number of clusters\")\n",
        "plt.ylabel(\"WCSS (Within-Cluster Sum of Square)\")\n",
        "plt.show()  "
      ],
      "metadata": {
        "colab": {
          "base_uri": "https://localhost:8080/",
          "height": 445
        },
        "id": "j9V1UsTfPcwv",
        "outputId": "10e29237-cc46-47d9-adff-6099766b965b"
      },
      "execution_count": null,
      "outputs": [
        {
          "output_type": "display_data",
          "data": {
            "text/plain": [
              "<Figure size 504x504 with 1 Axes>"
            ],
            "image/png": "[encoded data removed]"
          },
          "metadata": {
            "needs_background": "light"
          }
        }
      ]
    },
    {
      "cell_type": "code",
      "source": [
        "#since elbow is formed at cluster value k=4\n",
        "\n",
        "model = KMeans(n_clusters = 4, init = \"k-means++\")\n",
        "k_means = model.fit(df1)\n",
        "\n",
        "k_means.cluster_centers_"
      ],
      "metadata": {
        "colab": {
          "base_uri": "https://localhost:8080/"
        },
        "id": "0n_MZkzhPc1L",
        "outputId": "5da0c283-8909-4a8e-e083-b031c2dceb6d"
      },
      "execution_count": null,
      "outputs": [
        {
          "output_type": "execute_result",
          "data": {
            "text/plain": [
              "array([[ 30.375     ,  22.29125   ,  43.29875   ,  51.14625   ],\n",
              "       [ 37.5       ,  64.605     ,  30.08625   , -60.67125   ],\n",
              "       [ 24.82142857,  40.37464286, -30.98785714,  10.4       ],\n",
              "       [ 38.77777778, -65.16      ,  17.98222222,   7.64888889]])"
            ]
          },
          "metadata": {},
          "execution_count": 12
        }
      ]
    },
    {
      "cell_type": "code",
      "source": [
        "df1['clusters']  = k_means.labels_\n",
        "df1.head()"
      ],
      "metadata": {
        "colab": {
          "base_uri": "https://localhost:8080/",
          "height": 206
        },
        "id": "_BjJxzz9Pc2x",
        "outputId": "18fb49ae-87d5-4cb3-9b00-2475768ee8bc"
      },
      "execution_count": null,
      "outputs": [
        {
          "output_type": "execute_result",
          "data": {
            "text/plain": [
              "   ID  Att_1  Att_2  Att_3  clusters\n",
              "0   0   35.3  37.50  32.90         0\n",
              "1   1   41.4 -23.50 -15.40         2\n",
              "2   2   28.3 -13.30  10.20         2\n",
              "3   3    9.5  -9.00   1.00         2\n",
              "4   4   62.8 -18.23  17.66         2"
            ],
            "text/html": [
              "\n",
              "  <div id=\"df-8468380a-4cde-4cc1-b67e-33f771bee2ac\">\n",
              "    <div class=\"colab-df-container\">\n",
              "      <div>\n",
              "<style scoped>\n",
              "    .dataframe tbody tr th:only-of-type {\n",
              "        vertical-align: middle;\n",
              "    }\n",
              "\n",
              "    .dataframe tbody tr th {\n",
              "        vertical-align: top;\n",
              "    }\n",
              "\n",
              "    .dataframe thead th {\n",
              "        text-align: right;\n",
              "    }\n",
              "</style>\n",
              "<table border=\"1\" class=\"dataframe\">\n",
              "  <thead>\n",
              "    <tr style=\"text-align: right;\">\n",
              "      <th></th>\n",
              "      <th>ID</th>\n",
              "      <th>Att_1</th>\n",
              "      <th>Att_2</th>\n",
              "      <th>Att_3</th>\n",
              "      <th>clusters</th>\n",
              "    </tr>\n",
              "  </thead>\n",
              "  <tbody>\n",
              "    <tr>\n",
              "      <th>0</th>\n",
              "      <td>0</td>\n",
              "      <td>35.3</td>\n",
              "      <td>37.50</td>\n",
              "      <td>32.90</td>\n",
              "      <td>0</td>\n",
              "    </tr>\n",
              "    <tr>\n",
              "      <th>1</th>\n",
              "      <td>1</td>\n",
              "      <td>41.4</td>\n",
              "      <td>-23.50</td>\n",
              "      <td>-15.40</td>\n",
              "      <td>2</td>\n",
              "    </tr>\n",
              "    <tr>\n",
              "      <th>2</th>\n",
              "      <td>2</td>\n",
              "      <td>28.3</td>\n",
              "      <td>-13.30</td>\n",
              "      <td>10.20</td>\n",
              "      <td>2</td>\n",
              "    </tr>\n",
              "    <tr>\n",
              "      <th>3</th>\n",
              "      <td>3</td>\n",
              "      <td>9.5</td>\n",
              "      <td>-9.00</td>\n",
              "      <td>1.00</td>\n",
              "      <td>2</td>\n",
              "    </tr>\n",
              "    <tr>\n",
              "      <th>4</th>\n",
              "      <td>4</td>\n",
              "      <td>62.8</td>\n",
              "      <td>-18.23</td>\n",
              "      <td>17.66</td>\n",
              "      <td>2</td>\n",
              "    </tr>\n",
              "  </tbody>\n",
              "</table>\n",
              "</div>\n",
              "      <button class=\"colab-df-convert\" onclick=\"convertToInteractive('df-8468380a-4cde-4cc1-b67e-33f771bee2ac')\"\n",
              "              title=\"Convert this dataframe to an interactive table.\"\n",
              "              style=\"display:none;\">\n",
              "        \n",
              "  <svg xmlns=\"http://www.w3.org/2000/svg\" height=\"24px\"viewBox=\"0 0 24 24\"\n",
              "       width=\"24px\">\n",
              "    <path d=\"M0 0h24v24H0V0z\" fill=\"none\"/>\n",
              "    <path d=\"M18.56 5.44l.94 2.06.94-2.06 2.06-.94-2.06-.94-.94-2.06-.94 2.06-2.06.94zm-11 1L8.5 8.5l.94-2.06 2.06-.94-2.06-.94L8.5 2.5l-.94 2.06-2.06.94zm10 10l.94 2.06.94-2.06 2.06-.94-2.06-.94-.94-2.06-.94 2.06-2.06.94z\"/><path d=\"M17.41 7.96l-1.37-1.37c-.4-.4-.92-.59-1.43-.59-.52 0-1.04.2-1.43.59L10.3 9.45l-7.72 7.72c-.78.78-.78 2.05 0 2.83L4 21.41c.39.39.9.59 1.41.59.51 0 1.02-.2 1.41-.59l7.78-7.78 2.81-2.81c.8-.78.8-2.07 0-2.86zM5.41 20L4 18.59l7.72-7.72 1.47 1.35L5.41 20z\"/>\n",
              "  </svg>\n",
              "      </button>\n",
              "      \n",
              "  <style>\n",
              "    .colab-df-container {\n",
              "      display:flex;\n",
              "      flex-wrap:wrap;\n",
              "      gap: 12px;\n",
              "    }\n",
              "\n",
              "    .colab-df-convert {\n",
              "      background-color: #E8F0FE;\n",
              "      border: none;\n",
              "      border-radius: 50%;\n",
              "      cursor: pointer;\n",
              "      display: none;\n",
              "      fill: #1967D2;\n",
              "      height: 32px;\n",
              "      padding: 0 0 0 0;\n",
              "      width: 32px;\n",
              "    }\n",
              "\n",
              "    .colab-df-convert:hover {\n",
              "      background-color: #E2EBFA;\n",
              "      box-shadow: 0px 1px 2px rgba(60, 64, 67, 0.3), 0px 1px 3px 1px rgba(60, 64, 67, 0.15);\n",
              "      fill: #174EA6;\n",
              "    }\n",
              "\n",
              "    [theme=dark] .colab-df-convert {\n",
              "      background-color: #3B4455;\n",
              "      fill: #D2E3FC;\n",
              "    }\n",
              "\n",
              "    [theme=dark] .colab-df-convert:hover {\n",
              "      background-color: #434B5C;\n",
              "      box-shadow: 0px 1px 3px 1px rgba(0, 0, 0, 0.15);\n",
              "      filter: drop-shadow(0px 1px 2px rgba(0, 0, 0, 0.3));\n",
              "      fill: #FFFFFF;\n",
              "    }\n",
              "  </style>\n",
              "\n",
              "      <script>\n",
              "        const buttonEl =\n",
              "          document.querySelector('#df-8468380a-4cde-4cc1-b67e-33f771bee2ac button.colab-df-convert');\n",
              "        buttonEl.style.display =\n",
              "          google.colab.kernel.accessAllowed ? 'block' : 'none';\n",
              "\n",
              "        async function convertToInteractive(key) {\n",
              "          const element = document.querySelector('#df-8468380a-4cde-4cc1-b67e-33f771bee2ac');\n",
              "          const dataTable =\n",
              "            await google.colab.kernel.invokeFunction('convertToInteractive',\n",
              "                                                     [key], {});\n",
              "          if (!dataTable) return;\n",
              "\n",
              "          const docLinkHtml = 'Like what you see? Visit the ' +\n",
              "            '<a target=\"_blank\" href=https://colab.research.google.com/notebooks/data_table.ipynb>data table notebook</a>'\n",
              "            + ' to learn more about interactive tables.';\n",
              "          element.innerHTML = '';\n",
              "          dataTable['output_type'] = 'display_data';\n",
              "          await google.colab.output.renderOutput(dataTable, element);\n",
              "          const docLink = document.createElement('div');\n",
              "          docLink.innerHTML = docLinkHtml;\n",
              "          element.appendChild(docLink);\n",
              "        }\n",
              "      </script>\n",
              "    </div>\n",
              "  </div>\n",
              "  "
            ]
          },
          "metadata": {},
          "execution_count": 13
        }
      ]
    },
    {
      "cell_type": "code",
      "source": [
        "df1['clusters'].value_counts()"
      ],
      "metadata": {
        "colab": {
          "base_uri": "https://localhost:8080/"
        },
        "id": "j5jgOzjgPc4W",
        "outputId": "4322e655-d748-42d0-9042-af39dd823e23"
      },
      "execution_count": null,
      "outputs": [
        {
          "output_type": "execute_result",
          "data": {
            "text/plain": [
              "2    28\n",
              "0    16\n",
              "3     9\n",
              "1     8\n",
              "Name: clusters, dtype: int64"
            ]
          },
          "metadata": {},
          "execution_count": 14
        }
      ]
    },
    {
      "cell_type": "code",
      "source": [
        "import seaborn as sns\n",
        "sns.scatterplot(x='Att_1',y='Att_2',hue='clusters',data=df1)"
      ],
      "metadata": {
        "colab": {
          "base_uri": "https://localhost:8080/",
          "height": 297
        },
        "id": "SZ-v54j9Qwfj",
        "outputId": "11689708-d153-47f4-af2e-b8efc558d36f"
      },
      "execution_count": null,
      "outputs": [
        {
          "output_type": "execute_result",
          "data": {
            "text/plain": [
              "<matplotlib.axes._subplots.AxesSubplot at 0x7f92b3060d00>"
            ]
          },
          "metadata": {},
          "execution_count": 15
        },
        {
          "output_type": "display_data",
          "data": {
            "text/plain": [
              "<Figure size 432x288 with 1 Axes>"
            ],
            "image/png": "[encoded data removed]"
          },
          "metadata": {
            "needs_background": "light"
          }
        }
      ]
    },
    {
      "cell_type": "code",
      "source": [
        "sns.scatterplot(x='Att_2',y='Att_3',hue='clusters',data=df1)"
      ],
      "metadata": {
        "colab": {
          "base_uri": "https://localhost:8080/",
          "height": 297
        },
        "id": "KHY7OxgTQwoU",
        "outputId": "ef5c27b4-ce44-46e1-d63b-d4ed967949a5"
      },
      "execution_count": null,
      "outputs": [
        {
          "output_type": "execute_result",
          "data": {
            "text/plain": [
              "<matplotlib.axes._subplots.AxesSubplot at 0x7f92b2f994c0>"
            ]
          },
          "metadata": {},
          "execution_count": 16
        },
        {
          "output_type": "display_data",
          "data": {
            "text/plain": [
              "<Figure size 432x288 with 1 Axes>"
            ],
            "image/png": "[encoded data removed]"
          },
          "metadata": {
            "needs_background": "light"
          }
        }
      ]
    },
    {
      "cell_type": "code",
      "source": [
        "sns.scatterplot(x='Att_3',y='Att_1',hue='clusters',data=df1)"
      ],
      "metadata": {
        "colab": {
          "base_uri": "https://localhost:8080/",
          "height": 297
        },
        "id": "fyCiR6oTQwsI",
        "outputId": "21b38726-f7aa-4cd3-a839-1b12b604d32c"
      },
      "execution_count": null,
      "outputs": [
        {
          "output_type": "execute_result",
          "data": {
            "text/plain": [
              "<matplotlib.axes._subplots.AxesSubplot at 0x7f92b2f14700>"
            ]
          },
          "metadata": {},
          "execution_count": 17
        },
        {
          "output_type": "display_data",
          "data": {
            "text/plain": [
              "<Figure size 432x288 with 1 Axes>"
            ],
            "image/png": "[encoded data removed]"
          },
          "metadata": {
            "needs_background": "light"
          }
        }
      ]
    },
    {
      "cell_type": "code",
      "source": [
        "from pyspark.ml.clustering import KMeans\n",
        "from pyspark.ml.evaluation import ClusteringEvaluator\n",
        "silhouette_score=[]\n",
        "evaluator = ClusteringEvaluator(predictionCol='prediction', featuresCol='features', \n",
        "                                metricName='silhouette', distanceMeasure='squaredEuclidean')\n",
        "for i in range(2,10):\n",
        "    \n",
        "    KMeans_algo=KMeans(featuresCol='features', k=i)\n",
        "    \n",
        "    KMeans_fit=KMeans_algo.fit(new_df)\n",
        "    \n",
        "    output=KMeans_fit.transform(new_df)\n",
        "    \n",
        "    \n",
        "    \n",
        "    score=evaluator.evaluate(output)\n",
        "    \n",
        "    silhouette_score.append(score)\n",
        "    \n",
        "    print(\"Silhouette Score:\",score)"
      ],
      "metadata": {
        "colab": {
          "base_uri": "https://localhost:8080/"
        },
        "id": "dssMMxb-ya09",
        "outputId": "079fd6bf-2338-4a5f-de30-9a4445b8c382"
      },
      "execution_count": null,
      "outputs": [
        {
          "output_type": "stream",
          "name": "stdout",
          "text": [
            "Silhouette Score: 0.5158743179581223\n",
            "Silhouette Score: 0.47404283241379397\n",
            "Silhouette Score: 0.5119881509320797\n",
            "Silhouette Score: 0.39052033698939564\n",
            "Silhouette Score: 0.40430751921000974\n",
            "Silhouette Score: 0.4177820077273959\n",
            "Silhouette Score: 0.3496954746509451\n",
            "Silhouette Score: 0.38161698999082516\n"
          ]
        }
      ]
    },
    {
      "cell_type": "code",
      "source": [
        "#Visualizing the silhouette scores in a plot\n",
        "import matplotlib.pyplot as plt\n",
        "fig, ax = plt.subplots(1,1, figsize =(8,6))\n",
        "ax.plot(range(2,10),silhouette_score)\n",
        "ax.set_xlabel('k')\n",
        "ax.set_ylabel('cost')"
      ],
      "metadata": {
        "colab": {
          "base_uri": "https://localhost:8080/",
          "height": 405
        },
        "id": "GwiVvj2q1e6U",
        "outputId": "658925a8-de68-40ef-c3ae-3ff0c4dfdc2a"
      },
      "execution_count": null,
      "outputs": [
        {
          "output_type": "execute_result",
          "data": {
            "text/plain": [
              "Text(0, 0.5, 'cost')"
            ]
          },
          "metadata": {},
          "execution_count": 19
        },
        {
          "output_type": "display_data",
          "data": {
            "text/plain": [
              "<Figure size 576x432 with 1 Axes>"
            ],
            "image/png": "[encoded data removed]"
          },
          "metadata": {
            "needs_background": "light"
          }
        }
      ]
    },
    {
      "cell_type": "code",
      "source": [
        "from pyspark.ml.clustering import KMeans\n",
        "from pyspark.ml.evaluation import ClusteringEvaluator\n",
        "silhouette_score=[]\n",
        "evaluator = ClusteringEvaluator(predictionCol='prediction', featuresCol='features', \n",
        "                                metricName='silhouette', distanceMeasure='cosine')\n",
        "for i in range(2,10):\n",
        "    \n",
        "    KMeans_algo=KMeans(featuresCol='features', k=i)\n",
        "    \n",
        "    KMeans_fit=KMeans_algo.fit(new_df)\n",
        "    \n",
        "    output=KMeans_fit.transform(new_df)\n",
        "    \n",
        "    \n",
        "    \n",
        "    score=evaluator.evaluate(output)\n",
        "    \n",
        "    silhouette_score.append(score)\n",
        "    \n",
        "    print(\"Silhouette Score:\",score)"
      ],
      "metadata": {
        "colab": {
          "base_uri": "https://localhost:8080/"
        },
        "id": "-3r-Z08a1lVc",
        "outputId": "cde69a89-fd50-49e8-ccff-f9ff81e4d534"
      },
      "execution_count": null,
      "outputs": [
        {
          "output_type": "stream",
          "name": "stdout",
          "text": [
            "Silhouette Score: 0.5197080227927144\n",
            "Silhouette Score: 0.3706814842332485\n",
            "Silhouette Score: 0.534425137773792\n",
            "Silhouette Score: 0.42667103013156665\n",
            "Silhouette Score: 0.4368126152358165\n",
            "Silhouette Score: 0.4563426084043192\n",
            "Silhouette Score: 0.1998784444652331\n",
            "Silhouette Score: 0.33710566257942437\n"
          ]
        }
      ]
    },
    {
      "cell_type": "code",
      "source": [
        "#Visualizing the silhouette scores in a plot\n",
        "import matplotlib.pyplot as plt\n",
        "fig, ax = plt.subplots(1,1, figsize =(8,6))\n",
        "ax.plot(range(2,10),silhouette_score)\n",
        "ax.set_xlabel('k')\n",
        "ax.set_ylabel('cost')"
      ],
      "metadata": {
        "id": "lZ0cWW-Z1zv8",
        "outputId": "a6f60332-29ee-4425-e107-e27a97c7850d",
        "colab": {
          "base_uri": "https://localhost:8080/",
          "height": 408
        }
      },
      "execution_count": null,
      "outputs": [
        {
          "output_type": "execute_result",
          "data": {
            "text/plain": [
              "Text(0, 0.5, 'cost')"
            ]
          },
          "metadata": {},
          "execution_count": 21
        },
        {
          "output_type": "display_data",
          "data": {
            "text/plain": [
              "<Figure size 576x432 with 1 Axes>"
            ],
            "image/png": "[encoded data removed]"
          },
          "metadata": {
            "needs_background": "light"
          }
        }
      ]
    },
    {
      "cell_type": "code",
      "source": [
        "data_df = spark.read.csv(\"/content/drive/MyDrive/IRIS.csv\",inferSchema =True,header = True)"
      ],
      "metadata": {
        "id": "pKkRwwLnnOp6"
      },
      "execution_count": null,
      "outputs": []
    },
    {
      "cell_type": "code",
      "source": [
        "data_df.show()"
      ],
      "metadata": {
        "colab": {
          "base_uri": "https://localhost:8080/"
        },
        "id": "AfkbCH05oEiq",
        "outputId": "19ad897c-c8ec-41f0-c3e1-9e198b25ff2b"
      },
      "execution_count": null,
      "outputs": [
        {
          "output_type": "stream",
          "name": "stdout",
          "text": [
            "+------------+-----------+------------+-----------+-----------+\n",
            "|sepal_length|sepal_width|petal_length|petal_width|    species|\n",
            "+------------+-----------+------------+-----------+-----------+\n",
            "|         5.1|        3.5|         1.4|        0.2|Iris-setosa|\n",
            "|         4.9|        3.0|         1.4|        0.2|Iris-setosa|\n",
            "|         4.7|        3.2|         1.3|        0.2|Iris-setosa|\n",
            "|         4.6|        3.1|         1.5|        0.2|Iris-setosa|\n",
            "|         5.0|        3.6|         1.4|        0.2|Iris-setosa|\n",
            "|         5.4|        3.9|         1.7|        0.4|Iris-setosa|\n",
            "|         4.6|        3.4|         1.4|        0.3|Iris-setosa|\n",
            "|         5.0|        3.4|         1.5|        0.2|Iris-setosa|\n",
            "|         4.4|        2.9|         1.4|        0.2|Iris-setosa|\n",
            "|         4.9|        3.1|         1.5|        0.1|Iris-setosa|\n",
            "|         5.4|        3.7|         1.5|        0.2|Iris-setosa|\n",
            "|         4.8|        3.4|         1.6|        0.2|Iris-setosa|\n",
            "|         4.8|        3.0|         1.4|        0.1|Iris-setosa|\n",
            "|         4.3|        3.0|         1.1|        0.1|Iris-setosa|\n",
            "|         5.8|        4.0|         1.2|        0.2|Iris-setosa|\n",
            "|         5.7|        4.4|         1.5|        0.4|Iris-setosa|\n",
            "|         5.4|        3.9|         1.3|        0.4|Iris-setosa|\n",
            "|         5.1|        3.5|         1.4|        0.3|Iris-setosa|\n",
            "|         5.7|        3.8|         1.7|        0.3|Iris-setosa|\n",
            "|         5.1|        3.8|         1.5|        0.3|Iris-setosa|\n",
            "+------------+-----------+------------+-----------+-----------+\n",
            "only showing top 20 rows\n",
            "\n"
          ]
        }
      ]
    },
    {
      "cell_type": "code",
      "source": [
        "data_df.count()"
      ],
      "metadata": {
        "colab": {
          "base_uri": "https://localhost:8080/"
        },
        "id": "sBf3ZD9Noce1",
        "outputId": "17621fcc-742f-4ad3-c7de-1c9879d02aed"
      },
      "execution_count": null,
      "outputs": [
        {
          "output_type": "execute_result",
          "data": {
            "text/plain": [
              "150"
            ]
          },
          "metadata": {},
          "execution_count": 77
        }
      ]
    },
    {
      "cell_type": "code",
      "source": [
        "len(data_df.columns)"
      ],
      "metadata": {
        "colab": {
          "base_uri": "https://localhost:8080/"
        },
        "id": "asTONvhaogXA",
        "outputId": "1cdd250b-9a90-41a4-e101-8d7b93efa322"
      },
      "execution_count": null,
      "outputs": [
        {
          "output_type": "execute_result",
          "data": {
            "text/plain": [
              "5"
            ]
          },
          "metadata": {},
          "execution_count": 78
        }
      ]
    },
    {
      "cell_type": "code",
      "source": [
        "data_df.printSchema()"
      ],
      "metadata": {
        "colab": {
          "base_uri": "https://localhost:8080/"
        },
        "id": "Ix_mG-D7ol3d",
        "outputId": "4ba96d2a-7f26-4775-a50c-fe048a370b45"
      },
      "execution_count": null,
      "outputs": [
        {
          "output_type": "stream",
          "name": "stdout",
          "text": [
            "root\n",
            " |-- sepal_length: double (nullable = true)\n",
            " |-- sepal_width: double (nullable = true)\n",
            " |-- petal_length: double (nullable = true)\n",
            " |-- petal_width: double (nullable = true)\n",
            " |-- species: string (nullable = true)\n",
            "\n"
          ]
        }
      ]
    },
    {
      "cell_type": "code",
      "source": [
        "data_df.describe().show()"
      ],
      "metadata": {
        "colab": {
          "base_uri": "https://localhost:8080/"
        },
        "id": "GFe0JiaHooiN",
        "outputId": "cfc7ce3c-6b16-42af-b5ac-1caa96b28d87"
      },
      "execution_count": null,
      "outputs": [
        {
          "output_type": "stream",
          "name": "stdout",
          "text": [
            "+-------+------------------+-------------------+------------------+------------------+--------------+\n",
            "|summary|      sepal_length|        sepal_width|      petal_length|       petal_width|       species|\n",
            "+-------+------------------+-------------------+------------------+------------------+--------------+\n",
            "|  count|               150|                150|               150|               150|           150|\n",
            "|   mean| 5.843333333333335| 3.0540000000000007|3.7586666666666693|1.1986666666666672|          null|\n",
            "| stddev|0.8280661279778637|0.43359431136217375| 1.764420419952262|0.7631607417008414|          null|\n",
            "|    min|               4.3|                2.0|               1.0|               0.1|   Iris-setosa|\n",
            "|    max|               7.9|                4.4|               6.9|               2.5|Iris-virginica|\n",
            "+-------+------------------+-------------------+------------------+------------------+--------------+\n",
            "\n"
          ]
        }
      ]
    },
    {
      "cell_type": "code",
      "source": [
        "data_df.head(4)"
      ],
      "metadata": {
        "colab": {
          "base_uri": "https://localhost:8080/"
        },
        "id": "UYoY4GG9o6CY",
        "outputId": "1f360c3a-3237-4e7c-dba9-80b5f737de88"
      },
      "execution_count": null,
      "outputs": [
        {
          "output_type": "execute_result",
          "data": {
            "text/plain": [
              "[Row(sepal_length=5.1, sepal_width=3.5, petal_length=1.4, petal_width=0.2, species='Iris-setosa'),\n",
              " Row(sepal_length=4.9, sepal_width=3.0, petal_length=1.4, petal_width=0.2, species='Iris-setosa'),\n",
              " Row(sepal_length=4.7, sepal_width=3.2, petal_length=1.3, petal_width=0.2, species='Iris-setosa'),\n",
              " Row(sepal_length=4.6, sepal_width=3.1, petal_length=1.5, petal_width=0.2, species='Iris-setosa')]"
            ]
          },
          "metadata": {},
          "execution_count": 81
        }
      ]
    },
    {
      "cell_type": "code",
      "source": [
        "import seaborn as sns\n",
        "data_df1 = data_df.toPandas()\n",
        "data_df1.head(4)"
      ],
      "metadata": {
        "colab": {
          "base_uri": "https://localhost:8080/",
          "height": 175
        },
        "id": "ml7l6DM_MbOa",
        "outputId": "c8042d7b-bdee-4252-a68f-251f692a0ec0"
      },
      "execution_count": null,
      "outputs": [
        {
          "output_type": "execute_result",
          "data": {
            "text/plain": [
              "   sepal_length  sepal_width  petal_length  petal_width      species\n",
              "0           5.1          3.5           1.4          0.2  Iris-setosa\n",
              "1           4.9          3.0           1.4          0.2  Iris-setosa\n",
              "2           4.7          3.2           1.3          0.2  Iris-setosa\n",
              "3           4.6          3.1           1.5          0.2  Iris-setosa"
            ],
            "text/html": [
              "\n",
              "  <div id=\"df-c156ae4a-fba9-44a4-833e-86a4f1905be9\">\n",
              "    <div class=\"colab-df-container\">\n",
              "      <div>\n",
              "<style scoped>\n",
              "    .dataframe tbody tr th:only-of-type {\n",
              "        vertical-align: middle;\n",
              "    }\n",
              "\n",
              "    .dataframe tbody tr th {\n",
              "        vertical-align: top;\n",
              "    }\n",
              "\n",
              "    .dataframe thead th {\n",
              "        text-align: right;\n",
              "    }\n",
              "</style>\n",
              "<table border=\"1\" class=\"dataframe\">\n",
              "  <thead>\n",
              "    <tr style=\"text-align: right;\">\n",
              "      <th></th>\n",
              "      <th>sepal_length</th>\n",
              "      <th>sepal_width</th>\n",
              "      <th>petal_length</th>\n",
              "      <th>petal_width</th>\n",
              "      <th>species</th>\n",
              "    </tr>\n",
              "  </thead>\n",
              "  <tbody>\n",
              "    <tr>\n",
              "      <th>0</th>\n",
              "      <td>5.1</td>\n",
              "      <td>3.5</td>\n",
              "      <td>1.4</td>\n",
              "      <td>0.2</td>\n",
              "      <td>Iris-setosa</td>\n",
              "    </tr>\n",
              "    <tr>\n",
              "      <th>1</th>\n",
              "      <td>4.9</td>\n",
              "      <td>3.0</td>\n",
              "      <td>1.4</td>\n",
              "      <td>0.2</td>\n",
              "      <td>Iris-setosa</td>\n",
              "    </tr>\n",
              "    <tr>\n",
              "      <th>2</th>\n",
              "      <td>4.7</td>\n",
              "      <td>3.2</td>\n",
              "      <td>1.3</td>\n",
              "      <td>0.2</td>\n",
              "      <td>Iris-setosa</td>\n",
              "    </tr>\n",
              "    <tr>\n",
              "      <th>3</th>\n",
              "      <td>4.6</td>\n",
              "      <td>3.1</td>\n",
              "      <td>1.5</td>\n",
              "      <td>0.2</td>\n",
              "      <td>Iris-setosa</td>\n",
              "    </tr>\n",
              "  </tbody>\n",
              "</table>\n",
              "</div>\n",
              "      <button class=\"colab-df-convert\" onclick=\"convertToInteractive('df-c156ae4a-fba9-44a4-833e-86a4f1905be9')\"\n",
              "              title=\"Convert this dataframe to an interactive table.\"\n",
              "              style=\"display:none;\">\n",
              "        \n",
              "  <svg xmlns=\"http://www.w3.org/2000/svg\" height=\"24px\"viewBox=\"0 0 24 24\"\n",
              "       width=\"24px\">\n",
              "    <path d=\"M0 0h24v24H0V0z\" fill=\"none\"/>\n",
              "    <path d=\"M18.56 5.44l.94 2.06.94-2.06 2.06-.94-2.06-.94-.94-2.06-.94 2.06-2.06.94zm-11 1L8.5 8.5l.94-2.06 2.06-.94-2.06-.94L8.5 2.5l-.94 2.06-2.06.94zm10 10l.94 2.06.94-2.06 2.06-.94-2.06-.94-.94-2.06-.94 2.06-2.06.94z\"/><path d=\"M17.41 7.96l-1.37-1.37c-.4-.4-.92-.59-1.43-.59-.52 0-1.04.2-1.43.59L10.3 9.45l-7.72 7.72c-.78.78-.78 2.05 0 2.83L4 21.41c.39.39.9.59 1.41.59.51 0 1.02-.2 1.41-.59l7.78-7.78 2.81-2.81c.8-.78.8-2.07 0-2.86zM5.41 20L4 18.59l7.72-7.72 1.47 1.35L5.41 20z\"/>\n",
              "  </svg>\n",
              "      </button>\n",
              "      \n",
              "  <style>\n",
              "    .colab-df-container {\n",
              "      display:flex;\n",
              "      flex-wrap:wrap;\n",
              "      gap: 12px;\n",
              "    }\n",
              "\n",
              "    .colab-df-convert {\n",
              "      background-color: #E8F0FE;\n",
              "      border: none;\n",
              "      border-radius: 50%;\n",
              "      cursor: pointer;\n",
              "      display: none;\n",
              "      fill: #1967D2;\n",
              "      height: 32px;\n",
              "      padding: 0 0 0 0;\n",
              "      width: 32px;\n",
              "    }\n",
              "\n",
              "    .colab-df-convert:hover {\n",
              "      background-color: #E2EBFA;\n",
              "      box-shadow: 0px 1px 2px rgba(60, 64, 67, 0.3), 0px 1px 3px 1px rgba(60, 64, 67, 0.15);\n",
              "      fill: #174EA6;\n",
              "    }\n",
              "\n",
              "    [theme=dark] .colab-df-convert {\n",
              "      background-color: #3B4455;\n",
              "      fill: #D2E3FC;\n",
              "    }\n",
              "\n",
              "    [theme=dark] .colab-df-convert:hover {\n",
              "      background-color: #434B5C;\n",
              "      box-shadow: 0px 1px 3px 1px rgba(0, 0, 0, 0.15);\n",
              "      filter: drop-shadow(0px 1px 2px rgba(0, 0, 0, 0.3));\n",
              "      fill: #FFFFFF;\n",
              "    }\n",
              "  </style>\n",
              "\n",
              "      <script>\n",
              "        const buttonEl =\n",
              "          document.querySelector('#df-c156ae4a-fba9-44a4-833e-86a4f1905be9 button.colab-df-convert');\n",
              "        buttonEl.style.display =\n",
              "          google.colab.kernel.accessAllowed ? 'block' : 'none';\n",
              "\n",
              "        async function convertToInteractive(key) {\n",
              "          const element = document.querySelector('#df-c156ae4a-fba9-44a4-833e-86a4f1905be9');\n",
              "          const dataTable =\n",
              "            await google.colab.kernel.invokeFunction('convertToInteractive',\n",
              "                                                     [key], {});\n",
              "          if (!dataTable) return;\n",
              "\n",
              "          const docLinkHtml = 'Like what you see? Visit the ' +\n",
              "            '<a target=\"_blank\" href=https://colab.research.google.com/notebooks/data_table.ipynb>data table notebook</a>'\n",
              "            + ' to learn more about interactive tables.';\n",
              "          element.innerHTML = '';\n",
              "          dataTable['output_type'] = 'display_data';\n",
              "          await google.colab.output.renderOutput(dataTable, element);\n",
              "          const docLink = document.createElement('div');\n",
              "          docLink.innerHTML = docLinkHtml;\n",
              "          element.appendChild(docLink);\n",
              "        }\n",
              "      </script>\n",
              "    </div>\n",
              "  </div>\n",
              "  "
            ]
          },
          "metadata": {},
          "execution_count": 82
        }
      ]
    },
    {
      "cell_type": "code",
      "source": [
        "sns.pairplot(data_df1[['sepal_length','sepal_width','petal_length','petal_width']])"
      ],
      "metadata": {
        "colab": {
          "base_uri": "https://localhost:8080/",
          "height": 743
        },
        "id": "TQcPnHenNedj",
        "outputId": "2290a4dc-8d6c-4c9b-d10c-32e7e8664ac6"
      },
      "execution_count": null,
      "outputs": [
        {
          "output_type": "execute_result",
          "data": {
            "text/plain": [
              "<seaborn.axisgrid.PairGrid at 0x7f9d44db4e20>"
            ]
          },
          "metadata": {},
          "execution_count": 83
        },
        {
          "output_type": "display_data",
          "data": {
            "text/plain": [
              "<Figure size 720x720 with 20 Axes>"
            ],
            "image/png": "[encoded data removed]"
          },
          "metadata": {
            "needs_background": "light"
          }
        }
      ]
    },
    {
      "cell_type": "code",
      "source": [
        "data_df.groupby(\"species\").count().show()"
      ],
      "metadata": {
        "colab": {
          "base_uri": "https://localhost:8080/"
        },
        "id": "S5rOa_o5pDnt",
        "outputId": "8ed9d5d2-2678-4de2-d179-f447a966f82f"
      },
      "execution_count": null,
      "outputs": [
        {
          "output_type": "stream",
          "name": "stdout",
          "text": [
            "+---------------+-----+\n",
            "|        species|count|\n",
            "+---------------+-----+\n",
            "| Iris-virginica|   50|\n",
            "|    Iris-setosa|   50|\n",
            "|Iris-versicolor|   50|\n",
            "+---------------+-----+\n",
            "\n"
          ]
        }
      ]
    },
    {
      "cell_type": "code",
      "source": [
        "data_df.groupby(\"petal_length\").count().show()"
      ],
      "metadata": {
        "colab": {
          "base_uri": "https://localhost:8080/"
        },
        "id": "agabDkVLpLvp",
        "outputId": "daf41d94-1d5d-42ac-b17f-2433f1d1aeb5"
      },
      "execution_count": null,
      "outputs": [
        {
          "output_type": "stream",
          "name": "stdout",
          "text": [
            "+------------+-----+\n",
            "|petal_length|count|\n",
            "+------------+-----+\n",
            "|         5.4|    2|\n",
            "|         3.5|    2|\n",
            "|         6.1|    3|\n",
            "|         6.6|    1|\n",
            "|         3.7|    1|\n",
            "|         4.5|    8|\n",
            "|         5.7|    3|\n",
            "|         1.4|   12|\n",
            "|         1.7|    4|\n",
            "|         6.7|    2|\n",
            "|         4.9|    5|\n",
            "|         1.0|    1|\n",
            "|         4.1|    3|\n",
            "|         4.0|    5|\n",
            "|         1.9|    2|\n",
            "|         3.9|    3|\n",
            "|         3.8|    1|\n",
            "|         5.1|    8|\n",
            "|         4.2|    4|\n",
            "|         1.3|    7|\n",
            "+------------+-----+\n",
            "only showing top 20 rows\n",
            "\n"
          ]
        }
      ]
    },
    {
      "cell_type": "code",
      "source": [
        "from pyspark.ml.linalg import Vector\n",
        "from pyspark.ml.feature import VectorAssembler"
      ],
      "metadata": {
        "id": "Xf45qE82pvHw"
      },
      "execution_count": null,
      "outputs": []
    },
    {
      "cell_type": "code",
      "source": [
        "data_df.columns"
      ],
      "metadata": {
        "colab": {
          "base_uri": "https://localhost:8080/"
        },
        "id": "RdRCkLi2qHEZ",
        "outputId": "90886943-320b-41f6-c732-af88a3da80a6"
      },
      "execution_count": null,
      "outputs": [
        {
          "output_type": "execute_result",
          "data": {
            "text/plain": [
              "['sepal_length', 'sepal_width', 'petal_length', 'petal_width', 'species']"
            ]
          },
          "metadata": {},
          "execution_count": 87
        }
      ]
    },
    {
      "cell_type": "code",
      "source": [
        "input_columns = ['sepal_length', 'sepal_width', 'petal_length', 'petal_width']"
      ],
      "metadata": {
        "id": "G8DW9SW5qJY5"
      },
      "execution_count": null,
      "outputs": []
    },
    {
      "cell_type": "code",
      "source": [
        "vec_Assembler =  VectorAssembler(inputCols=input_columns,outputCol = \"features\")"
      ],
      "metadata": {
        "id": "1j6654I-qPXU"
      },
      "execution_count": null,
      "outputs": []
    },
    {
      "cell_type": "code",
      "source": [
        "final_data = vec_Assembler.transform(data_df)"
      ],
      "metadata": {
        "id": "Jkw4OQEQqeHE"
      },
      "execution_count": null,
      "outputs": []
    },
    {
      "cell_type": "code",
      "source": [
        "final_data.show()"
      ],
      "metadata": {
        "colab": {
          "base_uri": "https://localhost:8080/"
        },
        "id": "rKG_5VPMqon4",
        "outputId": "2da434fb-a27c-4b1c-e04d-c8b0dd45c95d"
      },
      "execution_count": null,
      "outputs": [
        {
          "output_type": "stream",
          "name": "stdout",
          "text": [
            "+------------+-----------+------------+-----------+-----------+-----------------+\n",
            "|sepal_length|sepal_width|petal_length|petal_width|    species|         features|\n",
            "+------------+-----------+------------+-----------+-----------+-----------------+\n",
            "|         5.1|        3.5|         1.4|        0.2|Iris-setosa|[5.1,3.5,1.4,0.2]|\n",
            "|         4.9|        3.0|         1.4|        0.2|Iris-setosa|[4.9,3.0,1.4,0.2]|\n",
            "|         4.7|        3.2|         1.3|        0.2|Iris-setosa|[4.7,3.2,1.3,0.2]|\n",
            "|         4.6|        3.1|         1.5|        0.2|Iris-setosa|[4.6,3.1,1.5,0.2]|\n",
            "|         5.0|        3.6|         1.4|        0.2|Iris-setosa|[5.0,3.6,1.4,0.2]|\n",
            "|         5.4|        3.9|         1.7|        0.4|Iris-setosa|[5.4,3.9,1.7,0.4]|\n",
            "|         4.6|        3.4|         1.4|        0.3|Iris-setosa|[4.6,3.4,1.4,0.3]|\n",
            "|         5.0|        3.4|         1.5|        0.2|Iris-setosa|[5.0,3.4,1.5,0.2]|\n",
            "|         4.4|        2.9|         1.4|        0.2|Iris-setosa|[4.4,2.9,1.4,0.2]|\n",
            "|         4.9|        3.1|         1.5|        0.1|Iris-setosa|[4.9,3.1,1.5,0.1]|\n",
            "|         5.4|        3.7|         1.5|        0.2|Iris-setosa|[5.4,3.7,1.5,0.2]|\n",
            "|         4.8|        3.4|         1.6|        0.2|Iris-setosa|[4.8,3.4,1.6,0.2]|\n",
            "|         4.8|        3.0|         1.4|        0.1|Iris-setosa|[4.8,3.0,1.4,0.1]|\n",
            "|         4.3|        3.0|         1.1|        0.1|Iris-setosa|[4.3,3.0,1.1,0.1]|\n",
            "|         5.8|        4.0|         1.2|        0.2|Iris-setosa|[5.8,4.0,1.2,0.2]|\n",
            "|         5.7|        4.4|         1.5|        0.4|Iris-setosa|[5.7,4.4,1.5,0.4]|\n",
            "|         5.4|        3.9|         1.3|        0.4|Iris-setosa|[5.4,3.9,1.3,0.4]|\n",
            "|         5.1|        3.5|         1.4|        0.3|Iris-setosa|[5.1,3.5,1.4,0.3]|\n",
            "|         5.7|        3.8|         1.7|        0.3|Iris-setosa|[5.7,3.8,1.7,0.3]|\n",
            "|         5.1|        3.8|         1.5|        0.3|Iris-setosa|[5.1,3.8,1.5,0.3]|\n",
            "+------------+-----------+------------+-----------+-----------+-----------------+\n",
            "only showing top 20 rows\n",
            "\n"
          ]
        }
      ]
    },
    {
      "cell_type": "code",
      "source": [
        "final_data.select(\"features\").show()"
      ],
      "metadata": {
        "colab": {
          "base_uri": "https://localhost:8080/"
        },
        "id": "MQizHgAGOvlb",
        "outputId": "0f36280d-2038-4bdb-910f-51170bfb92ef"
      },
      "execution_count": null,
      "outputs": [
        {
          "output_type": "stream",
          "name": "stdout",
          "text": [
            "+-----------------+\n",
            "|         features|\n",
            "+-----------------+\n",
            "|[5.1,3.5,1.4,0.2]|\n",
            "|[4.9,3.0,1.4,0.2]|\n",
            "|[4.7,3.2,1.3,0.2]|\n",
            "|[4.6,3.1,1.5,0.2]|\n",
            "|[5.0,3.6,1.4,0.2]|\n",
            "|[5.4,3.9,1.7,0.4]|\n",
            "|[4.6,3.4,1.4,0.3]|\n",
            "|[5.0,3.4,1.5,0.2]|\n",
            "|[4.4,2.9,1.4,0.2]|\n",
            "|[4.9,3.1,1.5,0.1]|\n",
            "|[5.4,3.7,1.5,0.2]|\n",
            "|[4.8,3.4,1.6,0.2]|\n",
            "|[4.8,3.0,1.4,0.1]|\n",
            "|[4.3,3.0,1.1,0.1]|\n",
            "|[5.8,4.0,1.2,0.2]|\n",
            "|[5.7,4.4,1.5,0.4]|\n",
            "|[5.4,3.9,1.3,0.4]|\n",
            "|[5.1,3.5,1.4,0.3]|\n",
            "|[5.7,3.8,1.7,0.3]|\n",
            "|[5.1,3.8,1.5,0.3]|\n",
            "+-----------------+\n",
            "only showing top 20 rows\n",
            "\n"
          ]
        }
      ]
    },
    {
      "cell_type": "code",
      "source": [
        "from pyspark.ml.clustering import KMeans\n",
        "from pyspark.ml.evaluation import ClusteringEvaluator"
      ],
      "metadata": {
        "id": "ixg4xeMSqwmU"
      },
      "execution_count": null,
      "outputs": []
    },
    {
      "cell_type": "code",
      "source": [
        "kmeans = KMeans(featuresCol=\"features\",k=3)"
      ],
      "metadata": {
        "id": "bLDVpLd8rFYJ"
      },
      "execution_count": null,
      "outputs": []
    },
    {
      "cell_type": "code",
      "source": [
        "model = kmeans.fit(final_data)"
      ],
      "metadata": {
        "id": "HkXG0qzSr7Bk"
      },
      "execution_count": null,
      "outputs": []
    },
    {
      "cell_type": "code",
      "source": [
        "model"
      ],
      "metadata": {
        "colab": {
          "base_uri": "https://localhost:8080/"
        },
        "id": "PHrjCRc-r-ag",
        "outputId": "3306d50f-cc2c-453d-91b2-4e5e7c370a92"
      },
      "execution_count": null,
      "outputs": [
        {
          "output_type": "execute_result",
          "data": {
            "text/plain": [
              "KMeansModel: uid=KMeans_92d871b20e0c, k=3, distanceMeasure=euclidean, numFeatures=4"
            ]
          },
          "metadata": {},
          "execution_count": 56
        }
      ]
    },
    {
      "cell_type": "code",
      "source": [
        "model.transform(final_data).groupBy(\"prediction\").count().show()"
      ],
      "metadata": {
        "colab": {
          "base_uri": "https://localhost:8080/"
        },
        "id": "ddXdjVLQsA-c",
        "outputId": "733963b0-b5a2-460e-c53f-730defbf29d2"
      },
      "execution_count": null,
      "outputs": [
        {
          "output_type": "stream",
          "name": "stdout",
          "text": [
            "+----------+-----+\n",
            "|prediction|count|\n",
            "+----------+-----+\n",
            "|         1|   50|\n",
            "|         2|   38|\n",
            "|         0|   62|\n",
            "+----------+-----+\n",
            "\n"
          ]
        }
      ]
    },
    {
      "cell_type": "code",
      "source": [
        "predictions= model.transform(final_data)"
      ],
      "metadata": {
        "id": "RW2gQNUMsKgo"
      },
      "execution_count": null,
      "outputs": []
    },
    {
      "cell_type": "code",
      "source": [
        "predictions.show()"
      ],
      "metadata": {
        "colab": {
          "base_uri": "https://localhost:8080/"
        },
        "id": "41iBh0pesTLn",
        "outputId": "4ccf4397-4a46-4160-de56-aba05e4cb254"
      },
      "execution_count": null,
      "outputs": [
        {
          "output_type": "stream",
          "name": "stdout",
          "text": [
            "+------------+-----------+------------+-----------+-----------+-----------------+----------+\n",
            "|sepal_length|sepal_width|petal_length|petal_width|    species|         features|prediction|\n",
            "+------------+-----------+------------+-----------+-----------+-----------------+----------+\n",
            "|         5.1|        3.5|         1.4|        0.2|Iris-setosa|[5.1,3.5,1.4,0.2]|         1|\n",
            "|         4.9|        3.0|         1.4|        0.2|Iris-setosa|[4.9,3.0,1.4,0.2]|         1|\n",
            "|         4.7|        3.2|         1.3|        0.2|Iris-setosa|[4.7,3.2,1.3,0.2]|         1|\n",
            "|         4.6|        3.1|         1.5|        0.2|Iris-setosa|[4.6,3.1,1.5,0.2]|         1|\n",
            "|         5.0|        3.6|         1.4|        0.2|Iris-setosa|[5.0,3.6,1.4,0.2]|         1|\n",
            "|         5.4|        3.9|         1.7|        0.4|Iris-setosa|[5.4,3.9,1.7,0.4]|         1|\n",
            "|         4.6|        3.4|         1.4|        0.3|Iris-setosa|[4.6,3.4,1.4,0.3]|         1|\n",
            "|         5.0|        3.4|         1.5|        0.2|Iris-setosa|[5.0,3.4,1.5,0.2]|         1|\n",
            "|         4.4|        2.9|         1.4|        0.2|Iris-setosa|[4.4,2.9,1.4,0.2]|         1|\n",
            "|         4.9|        3.1|         1.5|        0.1|Iris-setosa|[4.9,3.1,1.5,0.1]|         1|\n",
            "|         5.4|        3.7|         1.5|        0.2|Iris-setosa|[5.4,3.7,1.5,0.2]|         1|\n",
            "|         4.8|        3.4|         1.6|        0.2|Iris-setosa|[4.8,3.4,1.6,0.2]|         1|\n",
            "|         4.8|        3.0|         1.4|        0.1|Iris-setosa|[4.8,3.0,1.4,0.1]|         1|\n",
            "|         4.3|        3.0|         1.1|        0.1|Iris-setosa|[4.3,3.0,1.1,0.1]|         1|\n",
            "|         5.8|        4.0|         1.2|        0.2|Iris-setosa|[5.8,4.0,1.2,0.2]|         1|\n",
            "|         5.7|        4.4|         1.5|        0.4|Iris-setosa|[5.7,4.4,1.5,0.4]|         1|\n",
            "|         5.4|        3.9|         1.3|        0.4|Iris-setosa|[5.4,3.9,1.3,0.4]|         1|\n",
            "|         5.1|        3.5|         1.4|        0.3|Iris-setosa|[5.1,3.5,1.4,0.3]|         1|\n",
            "|         5.7|        3.8|         1.7|        0.3|Iris-setosa|[5.7,3.8,1.7,0.3]|         1|\n",
            "|         5.1|        3.8|         1.5|        0.3|Iris-setosa|[5.1,3.8,1.5,0.3]|         1|\n",
            "+------------+-----------+------------+-----------+-----------+-----------------+----------+\n",
            "only showing top 20 rows\n",
            "\n"
          ]
        }
      ]
    },
    {
      "cell_type": "code",
      "source": [
        "predictions.dtypes"
      ],
      "metadata": {
        "colab": {
          "base_uri": "https://localhost:8080/"
        },
        "id": "hzOsE0FkD2o4",
        "outputId": "7cc04d0f-1db7-4455-f962-a752ccb346c7"
      },
      "execution_count": null,
      "outputs": [
        {
          "output_type": "execute_result",
          "data": {
            "text/plain": [
              "[('sepal_length', 'double'),\n",
              " ('sepal_width', 'double'),\n",
              " ('petal_length', 'double'),\n",
              " ('petal_width', 'double'),\n",
              " ('species', 'string'),\n",
              " ('features', 'vector'),\n",
              " ('prediction', 'int')]"
            ]
          },
          "metadata": {},
          "execution_count": 60
        }
      ]
    },
    {
      "cell_type": "code",
      "source": [
        "predictions = predictions.withColumn(\"prediction\",predictions.prediction.cast('double'))"
      ],
      "metadata": {
        "id": "NldbHZQXHQK5"
      },
      "execution_count": null,
      "outputs": []
    },
    {
      "cell_type": "code",
      "source": [
        "predictions.dtypes"
      ],
      "metadata": {
        "colab": {
          "base_uri": "https://localhost:8080/"
        },
        "id": "2_MkC6RPHwPH",
        "outputId": "e8d3564f-d208-40b6-abe8-0708dc3b8b9e"
      },
      "execution_count": null,
      "outputs": [
        {
          "output_type": "execute_result",
          "data": {
            "text/plain": [
              "[('sepal_length', 'double'),\n",
              " ('sepal_width', 'double'),\n",
              " ('petal_length', 'double'),\n",
              " ('petal_width', 'double'),\n",
              " ('species', 'string'),\n",
              " ('features', 'vector'),\n",
              " ('prediction', 'double')]"
            ]
          },
          "metadata": {},
          "execution_count": 62
        }
      ]
    },
    {
      "cell_type": "code",
      "source": [
        "predictions.groupBy(\"species\",\"prediction\").count().show()"
      ],
      "metadata": {
        "colab": {
          "base_uri": "https://localhost:8080/"
        },
        "id": "XFPi825XsUzQ",
        "outputId": "de9142fb-cf27-4b79-fed6-4d58f582f607"
      },
      "execution_count": null,
      "outputs": [
        {
          "output_type": "stream",
          "name": "stdout",
          "text": [
            "+---------------+----------+-----+\n",
            "|        species|prediction|count|\n",
            "+---------------+----------+-----+\n",
            "| Iris-virginica|       0.0|   14|\n",
            "|    Iris-setosa|       1.0|   50|\n",
            "|Iris-versicolor|       0.0|   48|\n",
            "|Iris-versicolor|       2.0|    2|\n",
            "| Iris-virginica|       2.0|   36|\n",
            "+---------------+----------+-----+\n",
            "\n"
          ]
        }
      ]
    },
    {
      "cell_type": "code",
      "source": [
        "from pyspark.sql.window import Window\n",
        "import pyspark.sql.functions as F\n",
        "from pyspark.sql.functions import row_number\n",
        " \n",
        "predictions = predictions.select( F.row_number().over(Window.partitionBy().orderBy(predictions['sepal_length'])).alias(\"row_num\"),\"sepal_length\",\"sepal_width\",\"petal_length\",\"petal_width\",\"species\",\"features\",\"prediction\")\n",
        "predictions.show()"
      ],
      "metadata": {
        "colab": {
          "base_uri": "https://localhost:8080/"
        },
        "id": "JoyPqQXMUe3C",
        "outputId": "318dd75c-99ff-4a00-9530-20387acb0050"
      },
      "execution_count": null,
      "outputs": [
        {
          "output_type": "stream",
          "name": "stdout",
          "text": [
            "+-------+------------+-----------+------------+-----------+-----------+-----------------+----------+\n",
            "|row_num|sepal_length|sepal_width|petal_length|petal_width|    species|         features|prediction|\n",
            "+-------+------------+-----------+------------+-----------+-----------+-----------------+----------+\n",
            "|      1|         4.3|        3.0|         1.1|        0.1|Iris-setosa|[4.3,3.0,1.1,0.1]|       1.0|\n",
            "|      2|         4.4|        2.9|         1.4|        0.2|Iris-setosa|[4.4,2.9,1.4,0.2]|       1.0|\n",
            "|      3|         4.4|        3.0|         1.3|        0.2|Iris-setosa|[4.4,3.0,1.3,0.2]|       1.0|\n",
            "|      4|         4.4|        3.2|         1.3|        0.2|Iris-setosa|[4.4,3.2,1.3,0.2]|       1.0|\n",
            "|      5|         4.5|        2.3|         1.3|        0.3|Iris-setosa|[4.5,2.3,1.3,0.3]|       1.0|\n",
            "|      6|         4.6|        3.4|         1.4|        0.3|Iris-setosa|[4.6,3.4,1.4,0.3]|       1.0|\n",
            "|      7|         4.6|        3.6|         1.0|        0.2|Iris-setosa|[4.6,3.6,1.0,0.2]|       1.0|\n",
            "|      8|         4.6|        3.1|         1.5|        0.2|Iris-setosa|[4.6,3.1,1.5,0.2]|       1.0|\n",
            "|      9|         4.6|        3.2|         1.4|        0.2|Iris-setosa|[4.6,3.2,1.4,0.2]|       1.0|\n",
            "|     10|         4.7|        3.2|         1.3|        0.2|Iris-setosa|[4.7,3.2,1.3,0.2]|       1.0|\n",
            "|     11|         4.7|        3.2|         1.6|        0.2|Iris-setosa|[4.7,3.2,1.6,0.2]|       1.0|\n",
            "|     12|         4.8|        3.4|         1.9|        0.2|Iris-setosa|[4.8,3.4,1.9,0.2]|       1.0|\n",
            "|     13|         4.8|        3.0|         1.4|        0.1|Iris-setosa|[4.8,3.0,1.4,0.1]|       1.0|\n",
            "|     14|         4.8|        3.1|         1.6|        0.2|Iris-setosa|[4.8,3.1,1.6,0.2]|       1.0|\n",
            "|     15|         4.8|        3.4|         1.6|        0.2|Iris-setosa|[4.8,3.4,1.6,0.2]|       1.0|\n",
            "|     16|         4.8|        3.0|         1.4|        0.3|Iris-setosa|[4.8,3.0,1.4,0.3]|       1.0|\n",
            "|     17|         4.9|        3.1|         1.5|        0.1|Iris-setosa|[4.9,3.1,1.5,0.1]|       1.0|\n",
            "|     18|         4.9|        3.1|         1.5|        0.1|Iris-setosa|[4.9,3.1,1.5,0.1]|       1.0|\n",
            "|     19|         4.9|        3.1|         1.5|        0.1|Iris-setosa|[4.9,3.1,1.5,0.1]|       1.0|\n",
            "|     20|         4.9|        3.0|         1.4|        0.2|Iris-setosa|[4.9,3.0,1.4,0.2]|       1.0|\n",
            "+-------+------------+-----------+------------+-----------+-----------+-----------------+----------+\n",
            "only showing top 20 rows\n",
            "\n"
          ]
        }
      ]
    },
    {
      "cell_type": "code",
      "source": [
        "vecAssembler = VectorAssembler(inputCols=input_columns, outputCol=\"test_cen\")\n",
        "df_kmeans = vecAssembler.transform(predictions).select('row_num', 'features')\n",
        "df_kmeans.show()"
      ],
      "metadata": {
        "colab": {
          "base_uri": "https://localhost:8080/"
        },
        "id": "Rkmd5SVOT6mS",
        "outputId": "e3d229fe-c396-413b-c54f-4f56a104a06f"
      },
      "execution_count": null,
      "outputs": [
        {
          "output_type": "stream",
          "name": "stdout",
          "text": [
            "+-------+-----------------+\n",
            "|row_num|         features|\n",
            "+-------+-----------------+\n",
            "|      1|[4.3,3.0,1.1,0.1]|\n",
            "|      2|[4.4,2.9,1.4,0.2]|\n",
            "|      3|[4.4,3.0,1.3,0.2]|\n",
            "|      4|[4.4,3.2,1.3,0.2]|\n",
            "|      5|[4.5,2.3,1.3,0.3]|\n",
            "|      6|[4.6,3.4,1.4,0.3]|\n",
            "|      7|[4.6,3.6,1.0,0.2]|\n",
            "|      8|[4.6,3.1,1.5,0.2]|\n",
            "|      9|[4.6,3.2,1.4,0.2]|\n",
            "|     10|[4.7,3.2,1.3,0.2]|\n",
            "|     11|[4.7,3.2,1.6,0.2]|\n",
            "|     12|[4.8,3.4,1.9,0.2]|\n",
            "|     13|[4.8,3.0,1.4,0.1]|\n",
            "|     14|[4.8,3.1,1.6,0.2]|\n",
            "|     15|[4.8,3.4,1.6,0.2]|\n",
            "|     16|[4.8,3.0,1.4,0.3]|\n",
            "|     17|[4.9,3.1,1.5,0.1]|\n",
            "|     18|[4.9,3.1,1.5,0.1]|\n",
            "|     19|[4.9,3.1,1.5,0.1]|\n",
            "|     20|[4.9,3.0,1.4,0.2]|\n",
            "+-------+-----------------+\n",
            "only showing top 20 rows\n",
            "\n"
          ]
        }
      ]
    },
    {
      "cell_type": "code",
      "source": [
        "from pyspark.ml.clustering import KMeans\n",
        "import numpy as np\n",
        "from pyspark.ml.evaluation import ClusteringEvaluator\n",
        "\n",
        "\n",
        "silhouette_score=[]\n",
        "evaluator = ClusteringEvaluator(predictionCol='prediction', featuresCol='features', \n",
        "                                metricName='silhouette', distanceMeasure='squaredEuclidean')\n",
        "for i in range(2,10):\n",
        "    \n",
        "    KMeans_algo=KMeans(featuresCol='features', k=i)\n",
        "    \n",
        "    KMeans_fit=KMeans_algo.fit(final_data)\n",
        "    \n",
        "    output=KMeans_fit.transform(final_data)\n",
        "    \n",
        "    \n",
        "    \n",
        "    score=evaluator.evaluate(output)\n",
        "    \n",
        "    silhouette_score.append(score)\n",
        "    \n",
        "    print(\"Silhouette Score:\",score)"
      ],
      "metadata": {
        "colab": {
          "base_uri": "https://localhost:8080/"
        },
        "id": "dcjYlXkkSgz8",
        "outputId": "07c361c2-3eb5-49db-afd6-26f0720e32f7"
      },
      "execution_count": null,
      "outputs": [
        {
          "output_type": "stream",
          "name": "stdout",
          "text": [
            "Silhouette Score: 0.8501515983265806\n",
            "Silhouette Score: 0.7354567373091194\n",
            "Silhouette Score: 0.6786090104505119\n",
            "Silhouette Score: 0.5593200358940349\n",
            "Silhouette Score: 0.553729358000156\n",
            "Silhouette Score: 0.5360087632845826\n",
            "Silhouette Score: 0.4517983773633881\n",
            "Silhouette Score: 0.4631049070416615\n"
          ]
        }
      ]
    },
    {
      "cell_type": "code",
      "source": [
        "#Visualizing the silhouette scores in a plot\n",
        "import matplotlib.pyplot as plt\n",
        "fig, ax = plt.subplots(1,1, figsize =(8,6))\n",
        "ax.plot(range(2,10),silhouette_score)\n",
        "ax.set_xlabel('k')\n",
        "ax.set_ylabel('cost')"
      ],
      "metadata": {
        "colab": {
          "base_uri": "https://localhost:8080/",
          "height": 405
        },
        "id": "zX1zMXHWujaH",
        "outputId": "896df060-cd2e-4728-a9f6-51e5155d8024"
      },
      "execution_count": null,
      "outputs": [
        {
          "output_type": "execute_result",
          "data": {
            "text/plain": [
              "Text(0, 0.5, 'cost')"
            ]
          },
          "metadata": {},
          "execution_count": 67
        },
        {
          "output_type": "display_data",
          "data": {
            "text/plain": [
              "<Figure size 576x432 with 1 Axes>"
            ],
            "image/png": "[encoded data removed]"
          },
          "metadata": {
            "needs_background": "light"
          }
        }
      ]
    },
    {
      "cell_type": "code",
      "source": [
        "from pyspark.ml.clustering import KMeans\n",
        "from pyspark.ml.evaluation import ClusteringEvaluator\n",
        "silhouette_score=[]\n",
        "evaluator = ClusteringEvaluator(predictionCol='prediction', featuresCol='features', \n",
        "                                metricName='silhouette', distanceMeasure='cosine')\n",
        "for i in range(2,10):\n",
        "    \n",
        "    KMeans_algo=KMeans(featuresCol='features', k=i)\n",
        "    \n",
        "    KMeans_fit=KMeans_algo.fit(final_data)\n",
        "    \n",
        "    output=KMeans_fit.transform(final_data)\n",
        "    \n",
        "    \n",
        "    \n",
        "    score=evaluator.evaluate(output)\n",
        "    \n",
        "    silhouette_score.append(score)\n",
        "    \n",
        "    print(\"Silhouette Score:\",score)"
      ],
      "metadata": {
        "colab": {
          "base_uri": "https://localhost:8080/"
        },
        "id": "CfG9XwO9vdIn",
        "outputId": "55cc7648-6afd-4675-eced-802d2b9398b2"
      },
      "execution_count": null,
      "outputs": [
        {
          "output_type": "stream",
          "name": "stdout",
          "text": [
            "Silhouette Score: 0.911213131291512\n",
            "Silhouette Score: 0.5397478882812206\n",
            "Silhouette Score: 0.34615838433587515\n",
            "Silhouette Score: 0.058767278481570324\n",
            "Silhouette Score: 0.041095742105156624\n",
            "Silhouette Score: 0.0217355060506318\n",
            "Silhouette Score: 0.012807229738018094\n",
            "Silhouette Score: -0.027885957793475958\n"
          ]
        }
      ]
    },
    {
      "cell_type": "code",
      "source": [
        "fig, ax = plt.subplots(1,1, figsize =(8,6))\n",
        "ax.plot(range(2,10),silhouette_score)\n",
        "ax.set_xlabel('k')\n",
        "ax.set_ylabel('cost')"
      ],
      "metadata": {
        "colab": {
          "base_uri": "https://localhost:8080/",
          "height": 405
        },
        "id": "MqXC3X21vvlC",
        "outputId": "6d6ee8eb-2080-4cd8-a405-40be02e7dce8"
      },
      "execution_count": null,
      "outputs": [
        {
          "output_type": "execute_result",
          "data": {
            "text/plain": [
              "Text(0, 0.5, 'cost')"
            ]
          },
          "metadata": {},
          "execution_count": 134
        },
        {
          "output_type": "display_data",
          "data": {
            "text/plain": [
              "<Figure size 576x432 with 1 Axes>"
            ],
            "image/png": "[encoded data removed]"
          },
          "metadata": {
            "needs_background": "light"
          }
        }
      ]
    },
    {
      "cell_type": "code",
      "source": [],
      "metadata": {
        "id": "3rn9brMLxKxK"
      },
      "execution_count": null,
      "outputs": []
    }
  ]
}